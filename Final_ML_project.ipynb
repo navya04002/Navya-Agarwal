{
  "nbformat": 4,
  "nbformat_minor": 0,
  "metadata": {
    "colab": {
      "provenance": [],
      "include_colab_link": true
    },
    "kernelspec": {
      "name": "python3",
      "display_name": "Python 3"
    },
    "language_info": {
      "name": "python"
    }
  },
  "cells": [
    {
      "cell_type": "markdown",
      "metadata": {
        "id": "view-in-github",
        "colab_type": "text"
      },
      "source": [
        "<a href=\"https://colab.research.google.com/github/navya04002/Navya-Agarwal/blob/main/Final_ML_project.ipynb\" target=\"_parent\"><img src=\"https://colab.research.google.com/assets/colab-badge.svg\" alt=\"Open In Colab\"/></a>"
      ]
    },
    {
      "cell_type": "markdown",
      "source": [
        "# **Heart Attack Risk Prediction🫀**"
      ],
      "metadata": {
        "id": "6y4u9TRMAsNi"
      }
    },
    {
      "cell_type": "markdown",
      "source": [
        "# **📝Business Problem Understanding**"
      ],
      "metadata": {
        "id": "4WqGcF6geJs7"
      }
    },
    {
      "cell_type": "markdown",
      "source": [
        "\"Cardiovascular diseases are a serious health threat which is often caused due to blockage in arteries or veins through which blood flows to heart. Identifying the high risk at early stage is very important for prevention.\"\n",
        "\n",
        "This project aims to predict heart attack risk using several factors such as age, cholesterol, blood pressure, alcohol consumption etc. and develop a predictive model which can identify patients at high risk of heart disease."
      ],
      "metadata": {
        "id": "UckZ9_6sq3pC"
      }
    },
    {
      "cell_type": "markdown",
      "source": [
        "**Importance:**\n",
        "\n",
        "- It will allow Healthcare Management to make prevention strategies and ultimately providing it to the patients at higher risk.\n",
        "- Predicting the risk will help healthcare management to even reduce cost when emergency treatments are done. (More likely to know about the number of cases which require urgent care).\n",
        "- Improve patient care and outcomes.\n",
        "- More effectively use of healthcare resources"
      ],
      "metadata": {
        "id": "05ztb1CArFCV"
      }
    },
    {
      "cell_type": "markdown",
      "source": [
        "# **Source of the Data:**\n",
        "https://www.kaggle.com/datasets/alikalwar/heart-attack-risk-prediction-cleaned-dataset/data\n",
        "\n",
        "It is a Binary classification Problem and my goal is to predict wheather a patient is at a risk of a heart attack.\n",
        "\n",
        "**Features:**\n",
        "\n",
        "Demographics: Age, Gender\n",
        "\n",
        "Medical Conditions: Diabetes, Obesity, Blood Sugar\n",
        "\n",
        "Lifestyle Factors: Smoking, Alcohol, Diet, Exercise\n",
        "\n",
        "Clinical Test: Cholesterol, Blood Pressure, CK-MB, Troponin\n",
        "\n",
        "Target Variable: Heart Attack Risk (Binary: 0 = Low, 1 = High)"
      ],
      "metadata": {
        "id": "O4E_ujFIs8ey"
      }
    },
    {
      "cell_type": "markdown",
      "source": [
        "# **🧾Importing Essential Libraries**"
      ],
      "metadata": {
        "id": "81DMcsbvGDlN"
      }
    },
    {
      "cell_type": "code",
      "source": [
        "import pandas as pd\n",
        "import numpy as np\n",
        "import seaborn as sns\n",
        "import matplotlib.pyplot as plt\n",
        "\n",
        "import sklearn as sklearn\n",
        "from sklearn.model_selection import train_test_split\n",
        "from sklearn.pipeline import Pipeline\n",
        "from sklearn.impute import SimpleImputer\n",
        "from sklearn.metrics import accuracy_score, classification_report, confusion_matrix\n",
        "from sklearn.ensemble import RandomForestClassifier\n",
        "from sklearn.model_selection import GridSearchCV\n",
        "from sklearn.metrics import accuracy_score, precision_score, recall_score, f1_score\n",
        "\n",
        "import warnings\n",
        "warnings.filterwarnings('ignore')\n",
        "%matplotlib inline"
      ],
      "metadata": {
        "id": "a7gjHQqxR6f_"
      },
      "execution_count": null,
      "outputs": []
    },
    {
      "cell_type": "markdown",
      "source": [
        "# **📥Data Collection**\n",
        "\n",
        "---\n",
        "\n",
        "This gives a breif description of the columns and their values in the dataset."
      ],
      "metadata": {
        "id": "fugK7mwOGPS5"
      }
    },
    {
      "cell_type": "code",
      "source": [
        "df_har = pd.read_csv(\"heart-attack-risk-prediction-dataset.csv\")\n",
        "\n",
        "df_har.head()"
      ],
      "metadata": {
        "colab": {
          "base_uri": "https://localhost:8080/",
          "height": 307
        },
        "id": "Sb-O1NpMEOya",
        "outputId": "a77f9bf8-c138-4e9f-ab9c-6a1afd3c5b71"
      },
      "execution_count": null,
      "outputs": [
        {
          "output_type": "execute_result",
          "data": {
            "text/plain": [
              "        Age  Cholesterol  Heart rate  Diabetes  Family History  Smoking  \\\n",
              "0  0.595506     0.314286    0.047663       0.0             0.0      1.0   \n",
              "1  0.595506     0.096429    0.047663       1.0             1.0      1.0   \n",
              "2  0.595506     0.189286    0.047663       0.0             0.0      1.0   \n",
              "3  0.078652     0.960714    0.071494       1.0             1.0      1.0   \n",
              "4  0.078652     0.792857    0.071494       1.0             0.0      1.0   \n",
              "\n",
              "   Obesity  Alcohol Consumption  Exercise Hours Per Week  Diet  ...  \\\n",
              "0      0.0                  0.0                 0.208326     0  ...   \n",
              "1      1.0                  1.0                 0.752420     1  ...   \n",
              "2      0.0                  1.0                 0.200998     2  ...   \n",
              "3      1.0                  1.0                 0.090557     2  ...   \n",
              "4      1.0                  0.0                 0.601030     2  ...   \n",
              "\n",
              "   Physical Activity Days Per Week  Sleep Hours Per Day  \\\n",
              "0                              0.0             0.333333   \n",
              "1                              2.0             0.666667   \n",
              "2                              4.0             1.000000   \n",
              "3                              1.0             0.500000   \n",
              "4                              1.0             0.166667   \n",
              "\n",
              "   Heart Attack Risk (Binary)  Blood sugar     CK-MB  Troponin  \\\n",
              "0                         0.0     0.227018  0.048229  0.036512   \n",
              "1                         0.0     0.227018  0.048229  0.036512   \n",
              "2                         0.0     0.227018  0.048229  0.036512   \n",
              "3                         0.0     0.227018  0.048229  0.036512   \n",
              "4                         0.0     0.227018  0.048229  0.036512   \n",
              "\n",
              "   Heart Attack Risk (Text)  Gender  Systolic blood pressure  \\\n",
              "0                         0    Male                 0.600000   \n",
              "1                         0    Male                 0.574194   \n",
              "2                         0    Male                 0.187097   \n",
              "3                         0    Male                 0.645161   \n",
              "4                         0    Male                 0.251613   \n",
              "\n",
              "   Diastolic blood pressure  \n",
              "0                  0.534884  \n",
              "1                  0.569767  \n",
              "2                  0.674419  \n",
              "3                  0.593023  \n",
              "4                  0.383721  \n",
              "\n",
              "[5 rows x 27 columns]"
            ],
            "text/html": [
              "\n",
              "  <div id=\"df-121cc7a6-47e4-4514-9dd0-c1a7382a739f\" class=\"colab-df-container\">\n",
              "    <div>\n",
              "<style scoped>\n",
              "    .dataframe tbody tr th:only-of-type {\n",
              "        vertical-align: middle;\n",
              "    }\n",
              "\n",
              "    .dataframe tbody tr th {\n",
              "        vertical-align: top;\n",
              "    }\n",
              "\n",
              "    .dataframe thead th {\n",
              "        text-align: right;\n",
              "    }\n",
              "</style>\n",
              "<table border=\"1\" class=\"dataframe\">\n",
              "  <thead>\n",
              "    <tr style=\"text-align: right;\">\n",
              "      <th></th>\n",
              "      <th>Age</th>\n",
              "      <th>Cholesterol</th>\n",
              "      <th>Heart rate</th>\n",
              "      <th>Diabetes</th>\n",
              "      <th>Family History</th>\n",
              "      <th>Smoking</th>\n",
              "      <th>Obesity</th>\n",
              "      <th>Alcohol Consumption</th>\n",
              "      <th>Exercise Hours Per Week</th>\n",
              "      <th>Diet</th>\n",
              "      <th>...</th>\n",
              "      <th>Physical Activity Days Per Week</th>\n",
              "      <th>Sleep Hours Per Day</th>\n",
              "      <th>Heart Attack Risk (Binary)</th>\n",
              "      <th>Blood sugar</th>\n",
              "      <th>CK-MB</th>\n",
              "      <th>Troponin</th>\n",
              "      <th>Heart Attack Risk (Text)</th>\n",
              "      <th>Gender</th>\n",
              "      <th>Systolic blood pressure</th>\n",
              "      <th>Diastolic blood pressure</th>\n",
              "    </tr>\n",
              "  </thead>\n",
              "  <tbody>\n",
              "    <tr>\n",
              "      <th>0</th>\n",
              "      <td>0.595506</td>\n",
              "      <td>0.314286</td>\n",
              "      <td>0.047663</td>\n",
              "      <td>0.0</td>\n",
              "      <td>0.0</td>\n",
              "      <td>1.0</td>\n",
              "      <td>0.0</td>\n",
              "      <td>0.0</td>\n",
              "      <td>0.208326</td>\n",
              "      <td>0</td>\n",
              "      <td>...</td>\n",
              "      <td>0.0</td>\n",
              "      <td>0.333333</td>\n",
              "      <td>0.0</td>\n",
              "      <td>0.227018</td>\n",
              "      <td>0.048229</td>\n",
              "      <td>0.036512</td>\n",
              "      <td>0</td>\n",
              "      <td>Male</td>\n",
              "      <td>0.600000</td>\n",
              "      <td>0.534884</td>\n",
              "    </tr>\n",
              "    <tr>\n",
              "      <th>1</th>\n",
              "      <td>0.595506</td>\n",
              "      <td>0.096429</td>\n",
              "      <td>0.047663</td>\n",
              "      <td>1.0</td>\n",
              "      <td>1.0</td>\n",
              "      <td>1.0</td>\n",
              "      <td>1.0</td>\n",
              "      <td>1.0</td>\n",
              "      <td>0.752420</td>\n",
              "      <td>1</td>\n",
              "      <td>...</td>\n",
              "      <td>2.0</td>\n",
              "      <td>0.666667</td>\n",
              "      <td>0.0</td>\n",
              "      <td>0.227018</td>\n",
              "      <td>0.048229</td>\n",
              "      <td>0.036512</td>\n",
              "      <td>0</td>\n",
              "      <td>Male</td>\n",
              "      <td>0.574194</td>\n",
              "      <td>0.569767</td>\n",
              "    </tr>\n",
              "    <tr>\n",
              "      <th>2</th>\n",
              "      <td>0.595506</td>\n",
              "      <td>0.189286</td>\n",
              "      <td>0.047663</td>\n",
              "      <td>0.0</td>\n",
              "      <td>0.0</td>\n",
              "      <td>1.0</td>\n",
              "      <td>0.0</td>\n",
              "      <td>1.0</td>\n",
              "      <td>0.200998</td>\n",
              "      <td>2</td>\n",
              "      <td>...</td>\n",
              "      <td>4.0</td>\n",
              "      <td>1.000000</td>\n",
              "      <td>0.0</td>\n",
              "      <td>0.227018</td>\n",
              "      <td>0.048229</td>\n",
              "      <td>0.036512</td>\n",
              "      <td>0</td>\n",
              "      <td>Male</td>\n",
              "      <td>0.187097</td>\n",
              "      <td>0.674419</td>\n",
              "    </tr>\n",
              "    <tr>\n",
              "      <th>3</th>\n",
              "      <td>0.078652</td>\n",
              "      <td>0.960714</td>\n",
              "      <td>0.071494</td>\n",
              "      <td>1.0</td>\n",
              "      <td>1.0</td>\n",
              "      <td>1.0</td>\n",
              "      <td>1.0</td>\n",
              "      <td>1.0</td>\n",
              "      <td>0.090557</td>\n",
              "      <td>2</td>\n",
              "      <td>...</td>\n",
              "      <td>1.0</td>\n",
              "      <td>0.500000</td>\n",
              "      <td>0.0</td>\n",
              "      <td>0.227018</td>\n",
              "      <td>0.048229</td>\n",
              "      <td>0.036512</td>\n",
              "      <td>0</td>\n",
              "      <td>Male</td>\n",
              "      <td>0.645161</td>\n",
              "      <td>0.593023</td>\n",
              "    </tr>\n",
              "    <tr>\n",
              "      <th>4</th>\n",
              "      <td>0.078652</td>\n",
              "      <td>0.792857</td>\n",
              "      <td>0.071494</td>\n",
              "      <td>1.0</td>\n",
              "      <td>0.0</td>\n",
              "      <td>1.0</td>\n",
              "      <td>1.0</td>\n",
              "      <td>0.0</td>\n",
              "      <td>0.601030</td>\n",
              "      <td>2</td>\n",
              "      <td>...</td>\n",
              "      <td>1.0</td>\n",
              "      <td>0.166667</td>\n",
              "      <td>0.0</td>\n",
              "      <td>0.227018</td>\n",
              "      <td>0.048229</td>\n",
              "      <td>0.036512</td>\n",
              "      <td>0</td>\n",
              "      <td>Male</td>\n",
              "      <td>0.251613</td>\n",
              "      <td>0.383721</td>\n",
              "    </tr>\n",
              "  </tbody>\n",
              "</table>\n",
              "<p>5 rows × 27 columns</p>\n",
              "</div>\n",
              "    <div class=\"colab-df-buttons\">\n",
              "\n",
              "  <div class=\"colab-df-container\">\n",
              "    <button class=\"colab-df-convert\" onclick=\"convertToInteractive('df-121cc7a6-47e4-4514-9dd0-c1a7382a739f')\"\n",
              "            title=\"Convert this dataframe to an interactive table.\"\n",
              "            style=\"display:none;\">\n",
              "\n",
              "  <svg xmlns=\"http://www.w3.org/2000/svg\" height=\"24px\" viewBox=\"0 -960 960 960\">\n",
              "    <path d=\"M120-120v-720h720v720H120Zm60-500h600v-160H180v160Zm220 220h160v-160H400v160Zm0 220h160v-160H400v160ZM180-400h160v-160H180v160Zm440 0h160v-160H620v160ZM180-180h160v-160H180v160Zm440 0h160v-160H620v160Z\"/>\n",
              "  </svg>\n",
              "    </button>\n",
              "\n",
              "  <style>\n",
              "    .colab-df-container {\n",
              "      display:flex;\n",
              "      gap: 12px;\n",
              "    }\n",
              "\n",
              "    .colab-df-convert {\n",
              "      background-color: #E8F0FE;\n",
              "      border: none;\n",
              "      border-radius: 50%;\n",
              "      cursor: pointer;\n",
              "      display: none;\n",
              "      fill: #1967D2;\n",
              "      height: 32px;\n",
              "      padding: 0 0 0 0;\n",
              "      width: 32px;\n",
              "    }\n",
              "\n",
              "    .colab-df-convert:hover {\n",
              "      background-color: #E2EBFA;\n",
              "      box-shadow: 0px 1px 2px rgba(60, 64, 67, 0.3), 0px 1px 3px 1px rgba(60, 64, 67, 0.15);\n",
              "      fill: #174EA6;\n",
              "    }\n",
              "\n",
              "    .colab-df-buttons div {\n",
              "      margin-bottom: 4px;\n",
              "    }\n",
              "\n",
              "    [theme=dark] .colab-df-convert {\n",
              "      background-color: #3B4455;\n",
              "      fill: #D2E3FC;\n",
              "    }\n",
              "\n",
              "    [theme=dark] .colab-df-convert:hover {\n",
              "      background-color: #434B5C;\n",
              "      box-shadow: 0px 1px 3px 1px rgba(0, 0, 0, 0.15);\n",
              "      filter: drop-shadow(0px 1px 2px rgba(0, 0, 0, 0.3));\n",
              "      fill: #FFFFFF;\n",
              "    }\n",
              "  </style>\n",
              "\n",
              "    <script>\n",
              "      const buttonEl =\n",
              "        document.querySelector('#df-121cc7a6-47e4-4514-9dd0-c1a7382a739f button.colab-df-convert');\n",
              "      buttonEl.style.display =\n",
              "        google.colab.kernel.accessAllowed ? 'block' : 'none';\n",
              "\n",
              "      async function convertToInteractive(key) {\n",
              "        const element = document.querySelector('#df-121cc7a6-47e4-4514-9dd0-c1a7382a739f');\n",
              "        const dataTable =\n",
              "          await google.colab.kernel.invokeFunction('convertToInteractive',\n",
              "                                                    [key], {});\n",
              "        if (!dataTable) return;\n",
              "\n",
              "        const docLinkHtml = 'Like what you see? Visit the ' +\n",
              "          '<a target=\"_blank\" href=https://colab.research.google.com/notebooks/data_table.ipynb>data table notebook</a>'\n",
              "          + ' to learn more about interactive tables.';\n",
              "        element.innerHTML = '';\n",
              "        dataTable['output_type'] = 'display_data';\n",
              "        await google.colab.output.renderOutput(dataTable, element);\n",
              "        const docLink = document.createElement('div');\n",
              "        docLink.innerHTML = docLinkHtml;\n",
              "        element.appendChild(docLink);\n",
              "      }\n",
              "    </script>\n",
              "  </div>\n",
              "\n",
              "\n",
              "<div id=\"df-b94a32df-b3bf-451d-832e-306171412ae5\">\n",
              "  <button class=\"colab-df-quickchart\" onclick=\"quickchart('df-b94a32df-b3bf-451d-832e-306171412ae5')\"\n",
              "            title=\"Suggest charts\"\n",
              "            style=\"display:none;\">\n",
              "\n",
              "<svg xmlns=\"http://www.w3.org/2000/svg\" height=\"24px\"viewBox=\"0 0 24 24\"\n",
              "     width=\"24px\">\n",
              "    <g>\n",
              "        <path d=\"M19 3H5c-1.1 0-2 .9-2 2v14c0 1.1.9 2 2 2h14c1.1 0 2-.9 2-2V5c0-1.1-.9-2-2-2zM9 17H7v-7h2v7zm4 0h-2V7h2v10zm4 0h-2v-4h2v4z\"/>\n",
              "    </g>\n",
              "</svg>\n",
              "  </button>\n",
              "\n",
              "<style>\n",
              "  .colab-df-quickchart {\n",
              "      --bg-color: #E8F0FE;\n",
              "      --fill-color: #1967D2;\n",
              "      --hover-bg-color: #E2EBFA;\n",
              "      --hover-fill-color: #174EA6;\n",
              "      --disabled-fill-color: #AAA;\n",
              "      --disabled-bg-color: #DDD;\n",
              "  }\n",
              "\n",
              "  [theme=dark] .colab-df-quickchart {\n",
              "      --bg-color: #3B4455;\n",
              "      --fill-color: #D2E3FC;\n",
              "      --hover-bg-color: #434B5C;\n",
              "      --hover-fill-color: #FFFFFF;\n",
              "      --disabled-bg-color: #3B4455;\n",
              "      --disabled-fill-color: #666;\n",
              "  }\n",
              "\n",
              "  .colab-df-quickchart {\n",
              "    background-color: var(--bg-color);\n",
              "    border: none;\n",
              "    border-radius: 50%;\n",
              "    cursor: pointer;\n",
              "    display: none;\n",
              "    fill: var(--fill-color);\n",
              "    height: 32px;\n",
              "    padding: 0;\n",
              "    width: 32px;\n",
              "  }\n",
              "\n",
              "  .colab-df-quickchart:hover {\n",
              "    background-color: var(--hover-bg-color);\n",
              "    box-shadow: 0 1px 2px rgba(60, 64, 67, 0.3), 0 1px 3px 1px rgba(60, 64, 67, 0.15);\n",
              "    fill: var(--button-hover-fill-color);\n",
              "  }\n",
              "\n",
              "  .colab-df-quickchart-complete:disabled,\n",
              "  .colab-df-quickchart-complete:disabled:hover {\n",
              "    background-color: var(--disabled-bg-color);\n",
              "    fill: var(--disabled-fill-color);\n",
              "    box-shadow: none;\n",
              "  }\n",
              "\n",
              "  .colab-df-spinner {\n",
              "    border: 2px solid var(--fill-color);\n",
              "    border-color: transparent;\n",
              "    border-bottom-color: var(--fill-color);\n",
              "    animation:\n",
              "      spin 1s steps(1) infinite;\n",
              "  }\n",
              "\n",
              "  @keyframes spin {\n",
              "    0% {\n",
              "      border-color: transparent;\n",
              "      border-bottom-color: var(--fill-color);\n",
              "      border-left-color: var(--fill-color);\n",
              "    }\n",
              "    20% {\n",
              "      border-color: transparent;\n",
              "      border-left-color: var(--fill-color);\n",
              "      border-top-color: var(--fill-color);\n",
              "    }\n",
              "    30% {\n",
              "      border-color: transparent;\n",
              "      border-left-color: var(--fill-color);\n",
              "      border-top-color: var(--fill-color);\n",
              "      border-right-color: var(--fill-color);\n",
              "    }\n",
              "    40% {\n",
              "      border-color: transparent;\n",
              "      border-right-color: var(--fill-color);\n",
              "      border-top-color: var(--fill-color);\n",
              "    }\n",
              "    60% {\n",
              "      border-color: transparent;\n",
              "      border-right-color: var(--fill-color);\n",
              "    }\n",
              "    80% {\n",
              "      border-color: transparent;\n",
              "      border-right-color: var(--fill-color);\n",
              "      border-bottom-color: var(--fill-color);\n",
              "    }\n",
              "    90% {\n",
              "      border-color: transparent;\n",
              "      border-bottom-color: var(--fill-color);\n",
              "    }\n",
              "  }\n",
              "</style>\n",
              "\n",
              "  <script>\n",
              "    async function quickchart(key) {\n",
              "      const quickchartButtonEl =\n",
              "        document.querySelector('#' + key + ' button');\n",
              "      quickchartButtonEl.disabled = true;  // To prevent multiple clicks.\n",
              "      quickchartButtonEl.classList.add('colab-df-spinner');\n",
              "      try {\n",
              "        const charts = await google.colab.kernel.invokeFunction(\n",
              "            'suggestCharts', [key], {});\n",
              "      } catch (error) {\n",
              "        console.error('Error during call to suggestCharts:', error);\n",
              "      }\n",
              "      quickchartButtonEl.classList.remove('colab-df-spinner');\n",
              "      quickchartButtonEl.classList.add('colab-df-quickchart-complete');\n",
              "    }\n",
              "    (() => {\n",
              "      let quickchartButtonEl =\n",
              "        document.querySelector('#df-b94a32df-b3bf-451d-832e-306171412ae5 button');\n",
              "      quickchartButtonEl.style.display =\n",
              "        google.colab.kernel.accessAllowed ? 'block' : 'none';\n",
              "    })();\n",
              "  </script>\n",
              "</div>\n",
              "\n",
              "    </div>\n",
              "  </div>\n"
            ],
            "application/vnd.google.colaboratory.intrinsic+json": {
              "type": "dataframe",
              "variable_name": "df_har"
            }
          },
          "metadata": {},
          "execution_count": 2
        }
      ]
    },
    {
      "cell_type": "markdown",
      "source": [
        "# **🪓Splitting the Data into Train & Test**"
      ],
      "metadata": {
        "id": "w8PyM1PcYzr_"
      }
    },
    {
      "cell_type": "code",
      "source": [
        "df_har_train, df_har_test = sklearn.model_selection.train_test_split(df_har, test_size=0.2, random_state=42)\n",
        "\n",
        "print(\"df_har size:\", df_har.shape)\n",
        "print(\"df_har_train:\", df_har_train.shape)\n",
        "print(\"df_har_test:\", df_har_test.shape)"
      ],
      "metadata": {
        "colab": {
          "base_uri": "https://localhost:8080/"
        },
        "id": "sI7YJmuDY3dB",
        "outputId": "e7998dbb-7137-48a1-a5af-f0e61aff7051"
      },
      "execution_count": null,
      "outputs": [
        {
          "output_type": "stream",
          "name": "stdout",
          "text": [
            "df_har size: (9651, 27)\n",
            "df_har_train: (7720, 27)\n",
            "df_har_test: (1931, 27)\n"
          ]
        }
      ]
    },
    {
      "cell_type": "markdown",
      "source": [
        "source of the code: https://scikit-learn.org/stable/modules/generated/sklearn.model_selection.train_test_split.html\n",
        "\n",
        "**Inferences:**\n",
        "\n",
        "split the data into train and test to avoid overfitting.\n",
        "\n",
        "- The test size = 0.2 i.e, 20% dataset will be used for testing and remaining 80% will be used for training."
      ],
      "metadata": {
        "id": "fbfBOCNhY-lG"
      }
    },
    {
      "cell_type": "markdown",
      "source": [
        "# **🔍Data Exploration**\n",
        "\n",
        "---\n",
        "In data exploration we will see what unique features we have and if there is any null or missing values present in my dataset.\n",
        "\n",
        "- It helps to find relationship between features, identify the patterns in the dataset & potential issues that might affect the model performance and accuracy."
      ],
      "metadata": {
        "id": "GczERTwrVZDW"
      }
    },
    {
      "cell_type": "code",
      "source": [
        "df_har_train.info()"
      ],
      "metadata": {
        "id": "7CczyjfjEhwJ",
        "colab": {
          "base_uri": "https://localhost:8080/"
        },
        "outputId": "1c4285f4-138a-4414-c783-cd0f7a86f2ee"
      },
      "execution_count": null,
      "outputs": [
        {
          "output_type": "stream",
          "name": "stdout",
          "text": [
            "<class 'pandas.core.frame.DataFrame'>\n",
            "Index: 7720 entries, 6915 to 7270\n",
            "Data columns (total 27 columns):\n",
            " #   Column                           Non-Null Count  Dtype  \n",
            "---  ------                           --------------  -----  \n",
            " 0   Age                              7720 non-null   float64\n",
            " 1   Cholesterol                      7720 non-null   float64\n",
            " 2   Heart rate                       7720 non-null   float64\n",
            " 3   Diabetes                         7504 non-null   float64\n",
            " 4   Family History                   7504 non-null   float64\n",
            " 5   Smoking                          7504 non-null   float64\n",
            " 6   Obesity                          7504 non-null   float64\n",
            " 7   Alcohol Consumption              7504 non-null   float64\n",
            " 8   Exercise Hours Per Week          7720 non-null   float64\n",
            " 9   Diet                             7720 non-null   int64  \n",
            " 10  Previous Heart Problems          7504 non-null   float64\n",
            " 11  Medication Use                   7504 non-null   float64\n",
            " 12  Stress Level                     7504 non-null   float64\n",
            " 13  Sedentary Hours Per Day          7720 non-null   float64\n",
            " 14  Income                           7720 non-null   float64\n",
            " 15  BMI                              7720 non-null   float64\n",
            " 16  Triglycerides                    7720 non-null   float64\n",
            " 17  Physical Activity Days Per Week  7504 non-null   float64\n",
            " 18  Sleep Hours Per Day              7720 non-null   float64\n",
            " 19  Heart Attack Risk (Binary)       7720 non-null   float64\n",
            " 20  Blood sugar                      7720 non-null   float64\n",
            " 21  CK-MB                            7720 non-null   float64\n",
            " 22  Troponin                         7720 non-null   float64\n",
            " 23  Heart Attack Risk (Text)         7720 non-null   int64  \n",
            " 24  Gender                           7720 non-null   object \n",
            " 25  Systolic blood pressure          7720 non-null   float64\n",
            " 26  Diastolic blood pressure         7720 non-null   float64\n",
            "dtypes: float64(24), int64(2), object(1)\n",
            "memory usage: 1.6+ MB\n"
          ]
        }
      ]
    },
    {
      "cell_type": "code",
      "source": [
        "df_har_train.isnull().sum()"
      ],
      "metadata": {
        "id": "FxMPjBmLF0-l",
        "colab": {
          "base_uri": "https://localhost:8080/",
          "height": 930
        },
        "outputId": "bd89a1e1-f4db-4ea5-91f1-acf40bc96b1a"
      },
      "execution_count": null,
      "outputs": [
        {
          "output_type": "execute_result",
          "data": {
            "text/plain": [
              "Age                                  0\n",
              "Cholesterol                          0\n",
              "Heart rate                           0\n",
              "Diabetes                           216\n",
              "Family History                     216\n",
              "Smoking                            216\n",
              "Obesity                            216\n",
              "Alcohol Consumption                216\n",
              "Exercise Hours Per Week              0\n",
              "Diet                                 0\n",
              "Previous Heart Problems            216\n",
              "Medication Use                     216\n",
              "Stress Level                       216\n",
              "Sedentary Hours Per Day              0\n",
              "Income                               0\n",
              "BMI                                  0\n",
              "Triglycerides                        0\n",
              "Physical Activity Days Per Week    216\n",
              "Sleep Hours Per Day                  0\n",
              "Heart Attack Risk (Binary)           0\n",
              "Blood sugar                          0\n",
              "CK-MB                                0\n",
              "Troponin                             0\n",
              "Heart Attack Risk (Text)             0\n",
              "Gender                               0\n",
              "Systolic blood pressure              0\n",
              "Diastolic blood pressure             0\n",
              "dtype: int64"
            ],
            "text/html": [
              "<div>\n",
              "<style scoped>\n",
              "    .dataframe tbody tr th:only-of-type {\n",
              "        vertical-align: middle;\n",
              "    }\n",
              "\n",
              "    .dataframe tbody tr th {\n",
              "        vertical-align: top;\n",
              "    }\n",
              "\n",
              "    .dataframe thead th {\n",
              "        text-align: right;\n",
              "    }\n",
              "</style>\n",
              "<table border=\"1\" class=\"dataframe\">\n",
              "  <thead>\n",
              "    <tr style=\"text-align: right;\">\n",
              "      <th></th>\n",
              "      <th>0</th>\n",
              "    </tr>\n",
              "  </thead>\n",
              "  <tbody>\n",
              "    <tr>\n",
              "      <th>Age</th>\n",
              "      <td>0</td>\n",
              "    </tr>\n",
              "    <tr>\n",
              "      <th>Cholesterol</th>\n",
              "      <td>0</td>\n",
              "    </tr>\n",
              "    <tr>\n",
              "      <th>Heart rate</th>\n",
              "      <td>0</td>\n",
              "    </tr>\n",
              "    <tr>\n",
              "      <th>Diabetes</th>\n",
              "      <td>216</td>\n",
              "    </tr>\n",
              "    <tr>\n",
              "      <th>Family History</th>\n",
              "      <td>216</td>\n",
              "    </tr>\n",
              "    <tr>\n",
              "      <th>Smoking</th>\n",
              "      <td>216</td>\n",
              "    </tr>\n",
              "    <tr>\n",
              "      <th>Obesity</th>\n",
              "      <td>216</td>\n",
              "    </tr>\n",
              "    <tr>\n",
              "      <th>Alcohol Consumption</th>\n",
              "      <td>216</td>\n",
              "    </tr>\n",
              "    <tr>\n",
              "      <th>Exercise Hours Per Week</th>\n",
              "      <td>0</td>\n",
              "    </tr>\n",
              "    <tr>\n",
              "      <th>Diet</th>\n",
              "      <td>0</td>\n",
              "    </tr>\n",
              "    <tr>\n",
              "      <th>Previous Heart Problems</th>\n",
              "      <td>216</td>\n",
              "    </tr>\n",
              "    <tr>\n",
              "      <th>Medication Use</th>\n",
              "      <td>216</td>\n",
              "    </tr>\n",
              "    <tr>\n",
              "      <th>Stress Level</th>\n",
              "      <td>216</td>\n",
              "    </tr>\n",
              "    <tr>\n",
              "      <th>Sedentary Hours Per Day</th>\n",
              "      <td>0</td>\n",
              "    </tr>\n",
              "    <tr>\n",
              "      <th>Income</th>\n",
              "      <td>0</td>\n",
              "    </tr>\n",
              "    <tr>\n",
              "      <th>BMI</th>\n",
              "      <td>0</td>\n",
              "    </tr>\n",
              "    <tr>\n",
              "      <th>Triglycerides</th>\n",
              "      <td>0</td>\n",
              "    </tr>\n",
              "    <tr>\n",
              "      <th>Physical Activity Days Per Week</th>\n",
              "      <td>216</td>\n",
              "    </tr>\n",
              "    <tr>\n",
              "      <th>Sleep Hours Per Day</th>\n",
              "      <td>0</td>\n",
              "    </tr>\n",
              "    <tr>\n",
              "      <th>Heart Attack Risk (Binary)</th>\n",
              "      <td>0</td>\n",
              "    </tr>\n",
              "    <tr>\n",
              "      <th>Blood sugar</th>\n",
              "      <td>0</td>\n",
              "    </tr>\n",
              "    <tr>\n",
              "      <th>CK-MB</th>\n",
              "      <td>0</td>\n",
              "    </tr>\n",
              "    <tr>\n",
              "      <th>Troponin</th>\n",
              "      <td>0</td>\n",
              "    </tr>\n",
              "    <tr>\n",
              "      <th>Heart Attack Risk (Text)</th>\n",
              "      <td>0</td>\n",
              "    </tr>\n",
              "    <tr>\n",
              "      <th>Gender</th>\n",
              "      <td>0</td>\n",
              "    </tr>\n",
              "    <tr>\n",
              "      <th>Systolic blood pressure</th>\n",
              "      <td>0</td>\n",
              "    </tr>\n",
              "    <tr>\n",
              "      <th>Diastolic blood pressure</th>\n",
              "      <td>0</td>\n",
              "    </tr>\n",
              "  </tbody>\n",
              "</table>\n",
              "</div><br><label><b>dtype:</b> int64</label>"
            ]
          },
          "metadata": {},
          "execution_count": 5
        }
      ]
    },
    {
      "cell_type": "code",
      "source": [
        "df_har_train.nunique()"
      ],
      "metadata": {
        "colab": {
          "base_uri": "https://localhost:8080/",
          "height": 930
        },
        "id": "XA9VnugQDyYU",
        "outputId": "38c08044-ae0d-4e45-c9bc-2ffa55ea0a1d"
      },
      "execution_count": null,
      "outputs": [
        {
          "output_type": "execute_result",
          "data": {
            "text/plain": [
              "Age                                  77\n",
              "Cholesterol                         282\n",
              "Heart rate                           87\n",
              "Diabetes                              2\n",
              "Family History                        2\n",
              "Smoking                               2\n",
              "Obesity                               2\n",
              "Alcohol Consumption                   2\n",
              "Exercise Hours Per Week            7077\n",
              "Diet                                  4\n",
              "Previous Heart Problems               2\n",
              "Medication Use                        2\n",
              "Stress Level                         10\n",
              "Sedentary Hours Per Day            7077\n",
              "Income                             6977\n",
              "BMI                                7077\n",
              "Triglycerides                       772\n",
              "Physical Activity Days Per Week       8\n",
              "Sleep Hours Per Day                   8\n",
              "Heart Attack Risk (Binary)            2\n",
              "Blood sugar                         236\n",
              "CK-MB                               649\n",
              "Troponin                            322\n",
              "Heart Attack Risk (Text)              3\n",
              "Gender                                4\n",
              "Systolic blood pressure              98\n",
              "Diastolic blood pressure             66\n",
              "dtype: int64"
            ],
            "text/html": [
              "<div>\n",
              "<style scoped>\n",
              "    .dataframe tbody tr th:only-of-type {\n",
              "        vertical-align: middle;\n",
              "    }\n",
              "\n",
              "    .dataframe tbody tr th {\n",
              "        vertical-align: top;\n",
              "    }\n",
              "\n",
              "    .dataframe thead th {\n",
              "        text-align: right;\n",
              "    }\n",
              "</style>\n",
              "<table border=\"1\" class=\"dataframe\">\n",
              "  <thead>\n",
              "    <tr style=\"text-align: right;\">\n",
              "      <th></th>\n",
              "      <th>0</th>\n",
              "    </tr>\n",
              "  </thead>\n",
              "  <tbody>\n",
              "    <tr>\n",
              "      <th>Age</th>\n",
              "      <td>77</td>\n",
              "    </tr>\n",
              "    <tr>\n",
              "      <th>Cholesterol</th>\n",
              "      <td>282</td>\n",
              "    </tr>\n",
              "    <tr>\n",
              "      <th>Heart rate</th>\n",
              "      <td>87</td>\n",
              "    </tr>\n",
              "    <tr>\n",
              "      <th>Diabetes</th>\n",
              "      <td>2</td>\n",
              "    </tr>\n",
              "    <tr>\n",
              "      <th>Family History</th>\n",
              "      <td>2</td>\n",
              "    </tr>\n",
              "    <tr>\n",
              "      <th>Smoking</th>\n",
              "      <td>2</td>\n",
              "    </tr>\n",
              "    <tr>\n",
              "      <th>Obesity</th>\n",
              "      <td>2</td>\n",
              "    </tr>\n",
              "    <tr>\n",
              "      <th>Alcohol Consumption</th>\n",
              "      <td>2</td>\n",
              "    </tr>\n",
              "    <tr>\n",
              "      <th>Exercise Hours Per Week</th>\n",
              "      <td>7077</td>\n",
              "    </tr>\n",
              "    <tr>\n",
              "      <th>Diet</th>\n",
              "      <td>4</td>\n",
              "    </tr>\n",
              "    <tr>\n",
              "      <th>Previous Heart Problems</th>\n",
              "      <td>2</td>\n",
              "    </tr>\n",
              "    <tr>\n",
              "      <th>Medication Use</th>\n",
              "      <td>2</td>\n",
              "    </tr>\n",
              "    <tr>\n",
              "      <th>Stress Level</th>\n",
              "      <td>10</td>\n",
              "    </tr>\n",
              "    <tr>\n",
              "      <th>Sedentary Hours Per Day</th>\n",
              "      <td>7077</td>\n",
              "    </tr>\n",
              "    <tr>\n",
              "      <th>Income</th>\n",
              "      <td>6977</td>\n",
              "    </tr>\n",
              "    <tr>\n",
              "      <th>BMI</th>\n",
              "      <td>7077</td>\n",
              "    </tr>\n",
              "    <tr>\n",
              "      <th>Triglycerides</th>\n",
              "      <td>772</td>\n",
              "    </tr>\n",
              "    <tr>\n",
              "      <th>Physical Activity Days Per Week</th>\n",
              "      <td>8</td>\n",
              "    </tr>\n",
              "    <tr>\n",
              "      <th>Sleep Hours Per Day</th>\n",
              "      <td>8</td>\n",
              "    </tr>\n",
              "    <tr>\n",
              "      <th>Heart Attack Risk (Binary)</th>\n",
              "      <td>2</td>\n",
              "    </tr>\n",
              "    <tr>\n",
              "      <th>Blood sugar</th>\n",
              "      <td>236</td>\n",
              "    </tr>\n",
              "    <tr>\n",
              "      <th>CK-MB</th>\n",
              "      <td>649</td>\n",
              "    </tr>\n",
              "    <tr>\n",
              "      <th>Troponin</th>\n",
              "      <td>322</td>\n",
              "    </tr>\n",
              "    <tr>\n",
              "      <th>Heart Attack Risk (Text)</th>\n",
              "      <td>3</td>\n",
              "    </tr>\n",
              "    <tr>\n",
              "      <th>Gender</th>\n",
              "      <td>4</td>\n",
              "    </tr>\n",
              "    <tr>\n",
              "      <th>Systolic blood pressure</th>\n",
              "      <td>98</td>\n",
              "    </tr>\n",
              "    <tr>\n",
              "      <th>Diastolic blood pressure</th>\n",
              "      <td>66</td>\n",
              "    </tr>\n",
              "  </tbody>\n",
              "</table>\n",
              "</div><br><label><b>dtype:</b> int64</label>"
            ]
          },
          "metadata": {},
          "execution_count": 6
        }
      ]
    },
    {
      "cell_type": "code",
      "source": [
        "columns = [col for col in df_har_train.columns if df_har_train[col].nunique() > 4]\n",
        "\n",
        "df_har_train[columns].hist(figsize=(12, 8), bins=20, color='skyblue', edgecolor='black')\n",
        "plt.tight_layout()\n",
        "plt.show()"
      ],
      "metadata": {
        "colab": {
          "base_uri": "https://localhost:8080/",
          "height": 807
        },
        "id": "vvooaUza_7qA",
        "outputId": "caf498fb-0c9b-4fb3-adfe-2dbfcdf0062f"
      },
      "execution_count": null,
      "outputs": [
        {
          "output_type": "display_data",
          "data": {
            "text/plain": [
              "<Figure size 1200x800 with 16 Axes>"
            ],
            "image/png": "[encoded data removed]"
          },
          "metadata": {}
        }
      ]
    },
    {
      "cell_type": "markdown",
      "source": [
        "source of code: https://seaborn.pydata.org/generated/seaborn.histplot.html"
      ],
      "metadata": {
        "id": "kuUANYlmjVvs"
      }
    },
    {
      "cell_type": "code",
      "source": [
        "figsize=(6, 4)\n",
        "df_har_train['Heart Attack Risk (Binary)'].value_counts().plot(kind='bar')"
      ],
      "metadata": {
        "colab": {
          "base_uri": "https://localhost:8080/",
          "height": 474
        },
        "id": "b22VMNmmjK69",
        "outputId": "7247f9e6-ec33-419d-94c1-61b203dddfae"
      },
      "execution_count": null,
      "outputs": [
        {
          "output_type": "execute_result",
          "data": {
            "text/plain": [
              "<Axes: xlabel='Heart Attack Risk (Binary)'>"
            ]
          },
          "metadata": {},
          "execution_count": 8
        },
        {
          "output_type": "display_data",
          "data": {
            "text/plain": [
              "<Figure size 640x480 with 1 Axes>"
            ],
            "image/png": "[encoded data removed]"
          },
          "metadata": {}
        }
      ]
    },
    {
      "cell_type": "markdown",
      "source": [
        "source of the code: https://seaborn.pydata.org/generated/seaborn.barplot.html\n",
        "\n",
        "**Inferences:**\n",
        "\n",
        "**Heart Attack Risk (Binary)** shows that there are two values i.e -\n",
        "\n",
        "0 : low risk of heart attack\n",
        "\n",
        "1 : high risk of heart attack.\n",
        "\n",
        "By this we can say that the data provided is little unbalanced as for proper evaluation we should work on a balanced dataset. This can create a biased data analysis."
      ],
      "metadata": {
        "id": "yKXHy6_J0iou"
      }
    },
    {
      "cell_type": "code",
      "source": [
        "figsize=(6, 4)\n",
        "df_har_train['Heart Attack Risk (Text)'].value_counts().plot(kind='bar')"
      ],
      "metadata": {
        "colab": {
          "base_uri": "https://localhost:8080/",
          "height": 461
        },
        "id": "M57Drxsb00n4",
        "outputId": "2050e34e-3e45-4040-e8ff-8d6a02fc1750"
      },
      "execution_count": null,
      "outputs": [
        {
          "output_type": "execute_result",
          "data": {
            "text/plain": [
              "<Axes: xlabel='Heart Attack Risk (Text)'>"
            ]
          },
          "metadata": {},
          "execution_count": 9
        },
        {
          "output_type": "display_data",
          "data": {
            "text/plain": [
              "<Figure size 640x480 with 1 Axes>"
            ],
            "image/png": "[encoded data removed]"
          },
          "metadata": {}
        }
      ]
    },
    {
      "cell_type": "markdown",
      "source": [
        "**Inferences:**\n",
        "\n",
        "**Heart Attack Risk (Text) graph** shows that there are three different type of unique values.\n",
        "\n",
        "0 : Low Risk of heart attack.\n",
        "\n",
        "1 : Moderate Risk\n",
        "\n",
        "2 : High Risk\n",
        "\n",
        "Here also we can see that the data is highly imbalanced as class 0 has a very high count as compared to class 1 and class 2."
      ],
      "metadata": {
        "id": "iFXwq1LT1JmM"
      }
    },
    {
      "cell_type": "code",
      "source": [
        "df_har_train['Gender'].value_counts().plot(kind='bar')"
      ],
      "metadata": {
        "colab": {
          "base_uri": "https://localhost:8080/",
          "height": 503
        },
        "id": "VeiVKYmqWVkl",
        "outputId": "b10dcaa0-212c-4001-feb0-43108acdf3ab"
      },
      "execution_count": null,
      "outputs": [
        {
          "output_type": "execute_result",
          "data": {
            "text/plain": [
              "<Axes: xlabel='Gender'>"
            ]
          },
          "metadata": {},
          "execution_count": 10
        },
        {
          "output_type": "display_data",
          "data": {
            "text/plain": [
              "<Figure size 640x480 with 1 Axes>"
            ],
            "image/png": "[encoded data removed]"
          },
          "metadata": {}
        }
      ]
    },
    {
      "cell_type": "markdown",
      "source": [
        "**Inferences:**\n",
        "\n",
        "**Gender** column has 4 unique values: ['Male' , 'Female, '1.0' , '0.0']\n",
        "and the data type of the gender is object, that means even the values 0 and 1 is entered as string type."
      ],
      "metadata": {
        "id": "g0n7gsyhWZ0M"
      }
    },
    {
      "cell_type": "markdown",
      "source": [
        "# **⚙️Data Cleaning & Preprocessing**\n",
        "\n",
        "---\n",
        "There are some missing values in this dataset and some features are present which might not be suitable for machine learning algorithms.\n",
        "For improving these things I am doing data cleaning and preprocessing."
      ],
      "metadata": {
        "id": "cQoL-qO6Gcxy"
      }
    },
    {
      "cell_type": "code",
      "source": [
        "df_har_train['Gender'] = df_har_train['Gender'].str.strip()\n",
        "df_har_train['Gender'] = df_har_train['Gender'].replace({'Female': 0, 'Male': 1, '1' : 1, '0' : 0})\n",
        "df_har_train['Gender'] = pd.to_numeric(df_har_train['Gender'], errors='coerce')\n",
        "\n",
        "df_har_test['Gender'] = df_har_test['Gender'].str.strip()\n",
        "df_har_test['Gender'] = df_har_test['Gender'].replace({'Female': 0, 'Male': 1, '1' : 1, '0' : 0})\n",
        "df_har_test['Gender'] = pd.to_numeric(df_har_test['Gender'], errors='coerce')"
      ],
      "metadata": {
        "id": "E2nkAWXZVYcM"
      },
      "execution_count": null,
      "outputs": []
    },
    {
      "cell_type": "markdown",
      "source": [
        "source of the code: https://www.w3schools.com/python/ref_string_strip.asp\n",
        "\n",
        "https://www.w3schools.com/python/ref_string_replace.asp\n",
        "\n",
        "https://pandas.pydata.org/docs/reference/api/pandas.to_numeric.html\n",
        "\n",
        "**Inferences:**\n",
        "\n",
        "Assigning numerical values to objective values of Gender.\n",
        "\n",
        "str.strip() for stripping out whitespaces."
      ],
      "metadata": {
        "id": "nV6jNg758S_D"
      }
    },
    {
      "cell_type": "code",
      "source": [
        "numerical_features = []\n",
        "categorical_features = []\n",
        "\n",
        "for column in df_har_train.columns:\n",
        "  if df_har_train[column].nunique() > 4:\n",
        "    numerical_features.append(column)\n",
        "  else:\n",
        "    categorical_features.append(column)\n",
        "\n",
        "print(\"Numerical features:\", numerical_features)\n",
        "print(\"Categorical features:\", categorical_features)"
      ],
      "metadata": {
        "colab": {
          "base_uri": "https://localhost:8080/"
        },
        "id": "-Hfzo7653sbe",
        "outputId": "3cd68a46-1cfc-4ea7-f7f6-3602f3c4118a"
      },
      "execution_count": null,
      "outputs": [
        {
          "output_type": "stream",
          "name": "stdout",
          "text": [
            "Numerical features: ['Age', 'Cholesterol', 'Heart rate', 'Exercise Hours Per Week', 'Stress Level', 'Sedentary Hours Per Day', 'Income', 'BMI', 'Triglycerides', 'Physical Activity Days Per Week', 'Sleep Hours Per Day', 'Blood sugar', 'CK-MB', 'Troponin', 'Systolic blood pressure', 'Diastolic blood pressure']\n",
            "Categorical features: ['Diabetes', 'Family History', 'Smoking', 'Obesity', 'Alcohol Consumption', 'Diet', 'Previous Heart Problems', 'Medication Use', 'Heart Attack Risk (Binary)', 'Heart Attack Risk (Text)', 'Gender']\n"
          ]
        }
      ]
    },
    {
      "cell_type": "markdown",
      "source": [
        "source of the code: https://pandas.pydata.org/docs/reference/api/pandas.DataFrame.nunique.html\n",
        "\n",
        "https://stackoverflow.com/questions/70764649/how-to-build-a-loop-for-converting-entires-of-categorical-columns-to-numerical-v\n",
        "\n",
        "**Inferences:**\n",
        "\n",
        "Identifying numerical and categorical features is important for further preprocessing steps, because numerical features require scaling and categorical features require encoding before model evaluation."
      ],
      "metadata": {
        "id": "0Zs_piCH9GXo"
      }
    },
    {
      "cell_type": "code",
      "source": [
        "from sklearn.impute import KNNImputer\n",
        "imputer = KNNImputer(n_neighbors=7)\n",
        "\n",
        "numerical_features = df_har_train.select_dtypes(include=np.number).columns\n",
        "numerical_features = df_har_test.select_dtypes(include=np.number).columns\n",
        "\n",
        "df_har_train[numerical_features] = imputer.fit_transform(df_har_train[numerical_features])\n",
        "df_har_test[numerical_features] = imputer.transform(df_har_test[numerical_features])"
      ],
      "metadata": {
        "id": "JiAHV-IUODSQ"
      },
      "execution_count": null,
      "outputs": []
    },
    {
      "cell_type": "markdown",
      "source": [
        "source of code: https://scikit-learn.org/stable/modules/impute.html\n",
        "\n",
        "**Inferences:**\n",
        "\n",
        "Filling up the missing values using KNN Imputer which finds the nearest data points based on Euclidean distance(genrally) and then do the averaging of the nearest neigbours to fill the missing values.\n",
        "\n",
        "Using KNN imputer for numerical features was good for the daataset because some of the features are inter-dependent on each other like blood pressure and heart rate aND preserves the relation and distribution between data."
      ],
      "metadata": {
        "id": "XJYMxWTiHcfO"
      }
    },
    {
      "cell_type": "code",
      "source": [
        "categorical_imputer = SimpleImputer(strategy='most_frequent')\n",
        "\n",
        "df_har_train[categorical_features] = categorical_imputer.fit_transform(df_har_train[categorical_features])\n",
        "df_har_test[categorical_features] = categorical_imputer.transform(df_har_test[categorical_features])"
      ],
      "metadata": {
        "id": "ToyFfeZG-unT"
      },
      "execution_count": null,
      "outputs": []
    },
    {
      "cell_type": "markdown",
      "source": [
        "source of code: https://scikit-learn.org/stable/modules/impute.html\n",
        "\n",
        "**Inferences:**\n",
        "\n",
        "Using Simple Imputer (Most frequent) for Categorical features is important bacause categorical features have ordinal distribution of data with values such as 0,1,2 and so on. Simple Imputer will look to the most frequent values in the particular columns and fill the missing values with mode."
      ],
      "metadata": {
        "id": "QZ48mb_DO68p"
      }
    },
    {
      "cell_type": "code",
      "source": [
        "print(\"Checking for null values after for imputation for training data:\",end=\"\\n\")\n",
        "print(df_har_train.isnull().sum())"
      ],
      "metadata": {
        "collapsed": true,
        "id": "vPMRGnZae4zW",
        "colab": {
          "base_uri": "https://localhost:8080/"
        },
        "outputId": "80bb1f69-4cc3-4270-cd0b-f9f7e1e35625"
      },
      "execution_count": null,
      "outputs": [
        {
          "output_type": "stream",
          "name": "stdout",
          "text": [
            "Checking for null values after for imputation for training data:\n",
            "Age                                0\n",
            "Cholesterol                        0\n",
            "Heart rate                         0\n",
            "Diabetes                           0\n",
            "Family History                     0\n",
            "Smoking                            0\n",
            "Obesity                            0\n",
            "Alcohol Consumption                0\n",
            "Exercise Hours Per Week            0\n",
            "Diet                               0\n",
            "Previous Heart Problems            0\n",
            "Medication Use                     0\n",
            "Stress Level                       0\n",
            "Sedentary Hours Per Day            0\n",
            "Income                             0\n",
            "BMI                                0\n",
            "Triglycerides                      0\n",
            "Physical Activity Days Per Week    0\n",
            "Sleep Hours Per Day                0\n",
            "Heart Attack Risk (Binary)         0\n",
            "Blood sugar                        0\n",
            "CK-MB                              0\n",
            "Troponin                           0\n",
            "Heart Attack Risk (Text)           0\n",
            "Gender                             0\n",
            "Systolic blood pressure            0\n",
            "Diastolic blood pressure           0\n",
            "dtype: int64\n"
          ]
        }
      ]
    },
    {
      "cell_type": "markdown",
      "source": [
        "**Inferences:**\n",
        "\n",
        "Re-checking for missing values. No missing values found after imputation."
      ],
      "metadata": {
        "id": "h-a45E3GQ4v9"
      }
    },
    {
      "cell_type": "code",
      "source": [
        "#Finding number of outliers for training set:\n",
        "numerical_columns = df_har_train.nunique()[df_har_train.nunique() > 4].index\n",
        "\n",
        "first_quartlie_Q1 = df_har_train[numerical_columns].quantile(0.25)\n",
        "third_quartile_Q3 = df_har_train[numerical_columns].quantile(0.75)\n",
        "inter_quartile_range_IQR = third_quartile_Q3 - first_quartlie_Q1\n",
        "\n",
        "outliers = ((df_har_train[numerical_columns] < (first_quartlie_Q1 - 1.5 * inter_quartile_range_IQR )) |\n",
        "            (df_har_train[numerical_columns] > (third_quartile_Q3 + 1.5 * inter_quartile_range_IQR )))\n",
        "\n",
        "print(outliers.sum())\n",
        "\n",
        "#Finding outliers for testing set:\n",
        "numerical_columns = df_har_test.nunique()[df_har_test.nunique() > 4].index\n",
        "\n",
        "first_quartlie_Q1 = df_har_test[numerical_columns].quantile(0.25)\n",
        "third_quartile_Q3 = df_har_test[numerical_columns].quantile(0.75)\n",
        "inter_quartile_range_IQR = third_quartile_Q3 - first_quartlie_Q1\n",
        "\n",
        "outliers = ((df_har_test[numerical_columns] < (first_quartlie_Q1 - 1.5 * inter_quartile_range_IQR )) |\n",
        "            (df_har_test[numerical_columns] > (third_quartile_Q3 + 1.5 * inter_quartile_range_IQR )))"
      ],
      "metadata": {
        "colab": {
          "base_uri": "https://localhost:8080/"
        },
        "id": "_vlMpWvaSz7X",
        "outputId": "747252fd-3c31-4bc6-d145-13df092df401"
      },
      "execution_count": null,
      "outputs": [
        {
          "output_type": "stream",
          "name": "stdout",
          "text": [
            "Age                                   0\n",
            "Cholesterol                           0\n",
            "Heart rate                            2\n",
            "Diabetes                              0\n",
            "Family History                        0\n",
            "Smoking                             763\n",
            "Obesity                               0\n",
            "Alcohol Consumption                   0\n",
            "Exercise Hours Per Week               0\n",
            "Previous Heart Problems               0\n",
            "Medication Use                        0\n",
            "Stress Level                          0\n",
            "Sedentary Hours Per Day               0\n",
            "Income                                0\n",
            "BMI                                   0\n",
            "Triglycerides                         0\n",
            "Physical Activity Days Per Week       0\n",
            "Sleep Hours Per Day                   0\n",
            "Blood sugar                        1912\n",
            "CK-MB                              1912\n",
            "Troponin                           1912\n",
            "Systolic blood pressure               0\n",
            "Diastolic blood pressure              0\n",
            "dtype: int64\n"
          ]
        }
      ]
    },
    {
      "cell_type": "markdown",
      "source": [
        "source of code: https://stackoverflow.com/questions/74236711/pandas-outliers-with-and-without-calculations\n",
        "\n",
        "**Inferences**\n",
        "\n",
        "Checking for the presence of outliers. They play a major role in skewing the statistics of the dataset which can apparently leads to inaccurate results and analysis.\n",
        "\n",
        "As the data is highly skwed, I chose to find outliers with the help of Inter-Quartile Range(IQR) method.\n",
        "\n",
        "Q1: First Quartile(Q1) denotes the value below which 25% of the data points lie.\n",
        "Q3: Third Quartile(Q3) denotes the value below whcih 75% of the data points are present.\n",
        "\n",
        "IQR: is the difference between the third and first quartile.\n",
        "\n",
        "Datapoints falling below (Q1 - 1.5) X IQR and above (Q3 - 1.5) x IQR are the potential outliers in the dataset."
      ],
      "metadata": {
        "id": "9sDNZG1r65qq"
      }
    },
    {
      "cell_type": "code",
      "source": [
        "outliers_columns = ['Heart rate', 'Smoking', 'Blood sugar', 'CK-MB', 'Troponin']\n",
        "\n",
        "plt.figure(figsize=(10, 6))\n",
        "for i, column in enumerate(outliers_columns, 1):\n",
        "    plt.subplot(2, 3, i)\n",
        "    sns.boxplot(df_har_train[column])\n",
        "    plt.title(f'Box Plot for {column}')\n",
        "plt.tight_layout()\n",
        "plt.show()"
      ],
      "metadata": {
        "colab": {
          "base_uri": "https://localhost:8080/",
          "height": 607
        },
        "id": "W5u7bqHuW4zY",
        "outputId": "8ee0e5eb-f70f-4230-8739-82633c6131f1"
      },
      "execution_count": null,
      "outputs": [
        {
          "output_type": "display_data",
          "data": {
            "text/plain": [
              "<Figure size 1000x600 with 5 Axes>"
            ],
            "image/png": "[encoded data removed]"
          },
          "metadata": {}
        }
      ]
    },
    {
      "cell_type": "markdown",
      "source": [
        "source of code: https://seaborn.pydata.org/generated/seaborn.boxplot.html\n",
        "\n",
        "**Inferences:**\n",
        "\n",
        "I have plotted graphs for the columns which has presence of outliers.\n",
        "\n",
        "Outliers can represent that the patient have serious health issues.\n",
        "\n",
        "Patients who can have varied blood sugar level and have high chances of diabetes.\n",
        "\n",
        "Similarly for Troponin and CK-MB, high level can suggest serious health issues to patients or high risk of heart attack.\n",
        "\n",
        "NOTE: There are high possibilities that some of the data variables have data entry errors thus leading to presence of outliers, so before making any final decision, I will either have to verify the data accuracy or I will just reduce the impact of outlier to prevent the data from being biased.\n"
      ],
      "metadata": {
        "id": "BHKyeuF7-F_s"
      }
    },
    {
      "cell_type": "code",
      "source": [
        "log_transform_columns = [ 'Blood sugar', 'CK-MB', 'Troponin']\n",
        "for col in log_transform_columns:\n",
        "  df_har_train[col] = np.log(df_har_train[col]+1)\n",
        "  df_har_test[col] = np.log(df_har_test[col]+1)"
      ],
      "metadata": {
        "id": "NbRXRcPryx7r"
      },
      "execution_count": null,
      "outputs": []
    },
    {
      "cell_type": "markdown",
      "source": [
        "\n",
        "source of code: https://www.geeksforgeeks.org/log-and-natural-logarithmic-value-of-a-column-in-pandas-python/\n",
        "\n",
        "**Inferences:**\n",
        "\n",
        "Log Transformation:\n",
        "In medical cases, sometime its essential to keep outliers as a part of the analysis as it can indicate people with seviour health issues and who need genuine care and diagnosis. Thus in this case where it is impossible to verify the data from the domain experts, I will not remove all the outliers but I will just reduce the impact of extream outliers which might be a case of mis-leading data or data entry errors.\n",
        "\n",
        "We have extreme outliers in Blood sugar, CK-MB and Troponin. so we will apply **Log Transformation** to only those those columns as these columns are highly skwed and there are many outliers present outside the IQR."
      ],
      "metadata": {
        "id": "f4UtfxbuFD5O"
      }
    },
    {
      "cell_type": "code",
      "source": [
        "columns =  ['Blood sugar', 'CK-MB', 'Troponin']\n",
        "\n",
        "fig, axes = plt.subplots(2, len(columns), figsize=(14, 6))\n",
        "\n",
        "for i, column in enumerate(columns):\n",
        "    sns.histplot(df_har_train[column], kde=True, ax=axes[0, i])\n",
        "    axes[0, i].set_title(f\"Original {column} Distribution\")\n",
        "\n",
        "for i, column in enumerate(columns):\n",
        "    df_har_train[column] = df_har_train[column].apply(lambda x: np.log(x + 1))\n",
        "    sns.histplot(df_har_train[column], kde=True, ax=axes[1, i])\n",
        "    axes[1, i].set_title(f\"Log Transformed {column} Distribution\")\n",
        "\n",
        "plt.tight_layout()\n",
        "plt.show()"
      ],
      "metadata": {
        "colab": {
          "base_uri": "https://localhost:8080/",
          "height": 607
        },
        "id": "k86I2mkHbVpg",
        "outputId": "dd64c2fe-8364-4bab-93d9-ef91288c9410"
      },
      "execution_count": null,
      "outputs": [
        {
          "output_type": "display_data",
          "data": {
            "text/plain": [
              "<Figure size 1400x600 with 6 Axes>"
            ],
            "image/png": "[encoded data removed]"
          },
          "metadata": {}
        }
      ]
    },
    {
      "cell_type": "markdown",
      "source": [
        "source of code: https://www.geeksforgeeks.org/log-and-natural-logarithmic-value-of-a-column-in-pandas-python/\n",
        "\n",
        "https://seaborn.pydata.org/generated/seaborn.histplot.html\n",
        "\n",
        "**Inferences:**\n",
        "\n",
        "In the first row, original distribution of the particular features show the untransformed data. The peaks and the tails going towards the right side of the graph indicated the presence of outliers. We can see that the tails are going towards value 0.7.\n",
        "\n",
        "The graphs in the 2nd row are the plots after the log transfomation were the tail has slighlty shift towards left side (0.5) and data was slighlt got distributed evenly, indicating that extreem outliers were being removed properly, thus making the data more symmetrical and reducing the impact of outliers."
      ],
      "metadata": {
        "id": "Gm6NlWKROoOt"
      }
    },
    {
      "cell_type": "markdown",
      "source": [
        "# **🧮Feature and Target Selection**"
      ],
      "metadata": {
        "id": "3Z4BdG5fA6_o"
      }
    },
    {
      "cell_type": "code",
      "source": [
        "x_train = df_har_train.drop(['Heart Attack Risk (Binary)', 'Heart Attack Risk (Text)'], axis=1)\n",
        "y_train = df_har_train['Heart Attack Risk (Binary)']\n",
        "\n",
        "x_test = df_har_test.drop(['Heart Attack Risk (Binary)', 'Heart Attack Risk (Text)'], axis=1)\n",
        "y_test = df_har_test['Heart Attack Risk (Binary)']"
      ],
      "metadata": {
        "id": "eXfCj38SB0qw"
      },
      "execution_count": null,
      "outputs": []
    },
    {
      "cell_type": "code",
      "source": [
        "print(\"shape of x_train:\", x_train.shape)\n",
        "print(\"shape of y_train:\", y_train.shape)\n",
        "print(\"shape of x_test:\", x_test.shape)\n",
        "print(\"shape of y_test:\", y_test.shape)"
      ],
      "metadata": {
        "id": "419DhcC3CTrP",
        "colab": {
          "base_uri": "https://localhost:8080/"
        },
        "outputId": "2e5f5697-8712-49d8-ef5b-477610aff780"
      },
      "execution_count": null,
      "outputs": [
        {
          "output_type": "stream",
          "name": "stdout",
          "text": [
            "shape of x_train: (7720, 25)\n",
            "shape of y_train: (7720,)\n",
            "shape of x_test: (1931, 25)\n",
            "shape of y_test: (1931,)\n"
          ]
        }
      ]
    },
    {
      "cell_type": "markdown",
      "source": [
        "**Inferences:**\n",
        "\n",
        "Dropping Heart attack risk(Text) from the training and testing data before model tarining beacuse it contained the information of target variable in different form. This is done to avoid data leakage, as the model will have access to the answers and thus will result in overfitting."
      ],
      "metadata": {
        "id": "T2YaEysQQZhl"
      }
    },
    {
      "cell_type": "markdown",
      "source": [
        "# **Feature Scaling:**\n",
        "\n",
        "As I finalised working with the Random Forest classifier, this model does not need the features to be scaled. It splits data on the basis of features threshold. Standard scaler is important for models based on distance(KNN, SVM) OR gradient decent models (Logistic and Linear regression) as these models are scale sensitive.\n",
        "\n",
        "And as the categorical features in the dataset were ordinal [ i.e 0,1,2...] thus they were already in the numeric form. So they did not require onehot encoding and column transformation."
      ],
      "metadata": {
        "id": "MqSgp63qp56w"
      }
    },
    {
      "cell_type": "markdown",
      "source": [
        "# **💡Model Prediction**"
      ],
      "metadata": {
        "id": "5XW31JAj5reg"
      }
    },
    {
      "cell_type": "markdown",
      "source": [
        "# **Random Forest Classifier**"
      ],
      "metadata": {
        "id": "bv4MoWydC7mW"
      }
    },
    {
      "cell_type": "code",
      "source": [
        "rf = RandomForestClassifier(random_state=42)\n",
        "rf.fit(x_train, y_train)"
      ],
      "metadata": {
        "id": "oSird9aodsYF",
        "colab": {
          "base_uri": "https://localhost:8080/",
          "height": 79
        },
        "outputId": "c967e47e-4fdc-4e4c-b6a5-30c371f65ce6"
      },
      "execution_count": null,
      "outputs": [
        {
          "output_type": "execute_result",
          "data": {
            "text/plain": [
              "RandomForestClassifier(random_state=42)"
            ],
            "text/html": [
              "<style>#sk-container-id-2 {\n",
              "  /* Definition of color scheme common for light and dark mode */\n",
              "  --sklearn-color-text: #000;\n",
              "  --sklearn-color-text-muted: #666;\n",
              "  --sklearn-color-line: gray;\n",
              "  /* Definition of color scheme for unfitted estimators */\n",
              "  --sklearn-color-unfitted-level-0: #fff5e6;\n",
              "  --sklearn-color-unfitted-level-1: #f6e4d2;\n",
              "  --sklearn-color-unfitted-level-2: #ffe0b3;\n",
              "  --sklearn-color-unfitted-level-3: chocolate;\n",
              "  /* Definition of color scheme for fitted estimators */\n",
              "  --sklearn-color-fitted-level-0: #f0f8ff;\n",
              "  --sklearn-color-fitted-level-1: #d4ebff;\n",
              "  --sklearn-color-fitted-level-2: #b3dbfd;\n",
              "  --sklearn-color-fitted-level-3: cornflowerblue;\n",
              "\n",
              "  /* Specific color for light theme */\n",
              "  --sklearn-color-text-on-default-background: var(--sg-text-color, var(--theme-code-foreground, var(--jp-content-font-color1, black)));\n",
              "  --sklearn-color-background: var(--sg-background-color, var(--theme-background, var(--jp-layout-color0, white)));\n",
              "  --sklearn-color-border-box: var(--sg-text-color, var(--theme-code-foreground, var(--jp-content-font-color1, black)));\n",
              "  --sklearn-color-icon: #696969;\n",
              "\n",
              "  @media (prefers-color-scheme: dark) {\n",
              "    /* Redefinition of color scheme for dark theme */\n",
              "    --sklearn-color-text-on-default-background: var(--sg-text-color, var(--theme-code-foreground, var(--jp-content-font-color1, white)));\n",
              "    --sklearn-color-background: var(--sg-background-color, var(--theme-background, var(--jp-layout-color0, #111)));\n",
              "    --sklearn-color-border-box: var(--sg-text-color, var(--theme-code-foreground, var(--jp-content-font-color1, white)));\n",
              "    --sklearn-color-icon: #878787;\n",
              "  }\n",
              "}\n",
              "\n",
              "#sk-container-id-2 {\n",
              "  color: var(--sklearn-color-text);\n",
              "}\n",
              "\n",
              "#sk-container-id-2 pre {\n",
              "  padding: 0;\n",
              "}\n",
              "\n",
              "#sk-container-id-2 input.sk-hidden--visually {\n",
              "  border: 0;\n",
              "  clip: rect(1px 1px 1px 1px);\n",
              "  clip: rect(1px, 1px, 1px, 1px);\n",
              "  height: 1px;\n",
              "  margin: -1px;\n",
              "  overflow: hidden;\n",
              "  padding: 0;\n",
              "  position: absolute;\n",
              "  width: 1px;\n",
              "}\n",
              "\n",
              "#sk-container-id-2 div.sk-dashed-wrapped {\n",
              "  border: 1px dashed var(--sklearn-color-line);\n",
              "  margin: 0 0.4em 0.5em 0.4em;\n",
              "  box-sizing: border-box;\n",
              "  padding-bottom: 0.4em;\n",
              "  background-color: var(--sklearn-color-background);\n",
              "}\n",
              "\n",
              "#sk-container-id-2 div.sk-container {\n",
              "  /* jupyter's `normalize.less` sets `[hidden] { display: none; }`\n",
              "     but bootstrap.min.css set `[hidden] { display: none !important; }`\n",
              "     so we also need the `!important` here to be able to override the\n",
              "     default hidden behavior on the sphinx rendered scikit-learn.org.\n",
              "     See: https://github.com/scikit-learn/scikit-learn/issues/21755 */\n",
              "  display: inline-block !important;\n",
              "  position: relative;\n",
              "}\n",
              "\n",
              "#sk-container-id-2 div.sk-text-repr-fallback {\n",
              "  display: none;\n",
              "}\n",
              "\n",
              "div.sk-parallel-item,\n",
              "div.sk-serial,\n",
              "div.sk-item {\n",
              "  /* draw centered vertical line to link estimators */\n",
              "  background-image: linear-gradient(var(--sklearn-color-text-on-default-background), var(--sklearn-color-text-on-default-background));\n",
              "  background-size: 2px 100%;\n",
              "  background-repeat: no-repeat;\n",
              "  background-position: center center;\n",
              "}\n",
              "\n",
              "/* Parallel-specific style estimator block */\n",
              "\n",
              "#sk-container-id-2 div.sk-parallel-item::after {\n",
              "  content: \"\";\n",
              "  width: 100%;\n",
              "  border-bottom: 2px solid var(--sklearn-color-text-on-default-background);\n",
              "  flex-grow: 1;\n",
              "}\n",
              "\n",
              "#sk-container-id-2 div.sk-parallel {\n",
              "  display: flex;\n",
              "  align-items: stretch;\n",
              "  justify-content: center;\n",
              "  background-color: var(--sklearn-color-background);\n",
              "  position: relative;\n",
              "}\n",
              "\n",
              "#sk-container-id-2 div.sk-parallel-item {\n",
              "  display: flex;\n",
              "  flex-direction: column;\n",
              "}\n",
              "\n",
              "#sk-container-id-2 div.sk-parallel-item:first-child::after {\n",
              "  align-self: flex-end;\n",
              "  width: 50%;\n",
              "}\n",
              "\n",
              "#sk-container-id-2 div.sk-parallel-item:last-child::after {\n",
              "  align-self: flex-start;\n",
              "  width: 50%;\n",
              "}\n",
              "\n",
              "#sk-container-id-2 div.sk-parallel-item:only-child::after {\n",
              "  width: 0;\n",
              "}\n",
              "\n",
              "/* Serial-specific style estimator block */\n",
              "\n",
              "#sk-container-id-2 div.sk-serial {\n",
              "  display: flex;\n",
              "  flex-direction: column;\n",
              "  align-items: center;\n",
              "  background-color: var(--sklearn-color-background);\n",
              "  padding-right: 1em;\n",
              "  padding-left: 1em;\n",
              "}\n",
              "\n",
              "\n",
              "/* Toggleable style: style used for estimator/Pipeline/ColumnTransformer box that is\n",
              "clickable and can be expanded/collapsed.\n",
              "- Pipeline and ColumnTransformer use this feature and define the default style\n",
              "- Estimators will overwrite some part of the style using the `sk-estimator` class\n",
              "*/\n",
              "\n",
              "/* Pipeline and ColumnTransformer style (default) */\n",
              "\n",
              "#sk-container-id-2 div.sk-toggleable {\n",
              "  /* Default theme specific background. It is overwritten whether we have a\n",
              "  specific estimator or a Pipeline/ColumnTransformer */\n",
              "  background-color: var(--sklearn-color-background);\n",
              "}\n",
              "\n",
              "/* Toggleable label */\n",
              "#sk-container-id-2 label.sk-toggleable__label {\n",
              "  cursor: pointer;\n",
              "  display: flex;\n",
              "  width: 100%;\n",
              "  margin-bottom: 0;\n",
              "  padding: 0.5em;\n",
              "  box-sizing: border-box;\n",
              "  text-align: center;\n",
              "  align-items: start;\n",
              "  justify-content: space-between;\n",
              "  gap: 0.5em;\n",
              "}\n",
              "\n",
              "#sk-container-id-2 label.sk-toggleable__label .caption {\n",
              "  font-size: 0.6rem;\n",
              "  font-weight: lighter;\n",
              "  color: var(--sklearn-color-text-muted);\n",
              "}\n",
              "\n",
              "#sk-container-id-2 label.sk-toggleable__label-arrow:before {\n",
              "  /* Arrow on the left of the label */\n",
              "  content: \"▸\";\n",
              "  float: left;\n",
              "  margin-right: 0.25em;\n",
              "  color: var(--sklearn-color-icon);\n",
              "}\n",
              "\n",
              "#sk-container-id-2 label.sk-toggleable__label-arrow:hover:before {\n",
              "  color: var(--sklearn-color-text);\n",
              "}\n",
              "\n",
              "/* Toggleable content - dropdown */\n",
              "\n",
              "#sk-container-id-2 div.sk-toggleable__content {\n",
              "  max-height: 0;\n",
              "  max-width: 0;\n",
              "  overflow: hidden;\n",
              "  text-align: left;\n",
              "  /* unfitted */\n",
              "  background-color: var(--sklearn-color-unfitted-level-0);\n",
              "}\n",
              "\n",
              "#sk-container-id-2 div.sk-toggleable__content.fitted {\n",
              "  /* fitted */\n",
              "  background-color: var(--sklearn-color-fitted-level-0);\n",
              "}\n",
              "\n",
              "#sk-container-id-2 div.sk-toggleable__content pre {\n",
              "  margin: 0.2em;\n",
              "  border-radius: 0.25em;\n",
              "  color: var(--sklearn-color-text);\n",
              "  /* unfitted */\n",
              "  background-color: var(--sklearn-color-unfitted-level-0);\n",
              "}\n",
              "\n",
              "#sk-container-id-2 div.sk-toggleable__content.fitted pre {\n",
              "  /* unfitted */\n",
              "  background-color: var(--sklearn-color-fitted-level-0);\n",
              "}\n",
              "\n",
              "#sk-container-id-2 input.sk-toggleable__control:checked~div.sk-toggleable__content {\n",
              "  /* Expand drop-down */\n",
              "  max-height: 200px;\n",
              "  max-width: 100%;\n",
              "  overflow: auto;\n",
              "}\n",
              "\n",
              "#sk-container-id-2 input.sk-toggleable__control:checked~label.sk-toggleable__label-arrow:before {\n",
              "  content: \"▾\";\n",
              "}\n",
              "\n",
              "/* Pipeline/ColumnTransformer-specific style */\n",
              "\n",
              "#sk-container-id-2 div.sk-label input.sk-toggleable__control:checked~label.sk-toggleable__label {\n",
              "  color: var(--sklearn-color-text);\n",
              "  background-color: var(--sklearn-color-unfitted-level-2);\n",
              "}\n",
              "\n",
              "#sk-container-id-2 div.sk-label.fitted input.sk-toggleable__control:checked~label.sk-toggleable__label {\n",
              "  background-color: var(--sklearn-color-fitted-level-2);\n",
              "}\n",
              "\n",
              "/* Estimator-specific style */\n",
              "\n",
              "/* Colorize estimator box */\n",
              "#sk-container-id-2 div.sk-estimator input.sk-toggleable__control:checked~label.sk-toggleable__label {\n",
              "  /* unfitted */\n",
              "  background-color: var(--sklearn-color-unfitted-level-2);\n",
              "}\n",
              "\n",
              "#sk-container-id-2 div.sk-estimator.fitted input.sk-toggleable__control:checked~label.sk-toggleable__label {\n",
              "  /* fitted */\n",
              "  background-color: var(--sklearn-color-fitted-level-2);\n",
              "}\n",
              "\n",
              "#sk-container-id-2 div.sk-label label.sk-toggleable__label,\n",
              "#sk-container-id-2 div.sk-label label {\n",
              "  /* The background is the default theme color */\n",
              "  color: var(--sklearn-color-text-on-default-background);\n",
              "}\n",
              "\n",
              "/* On hover, darken the color of the background */\n",
              "#sk-container-id-2 div.sk-label:hover label.sk-toggleable__label {\n",
              "  color: var(--sklearn-color-text);\n",
              "  background-color: var(--sklearn-color-unfitted-level-2);\n",
              "}\n",
              "\n",
              "/* Label box, darken color on hover, fitted */\n",
              "#sk-container-id-2 div.sk-label.fitted:hover label.sk-toggleable__label.fitted {\n",
              "  color: var(--sklearn-color-text);\n",
              "  background-color: var(--sklearn-color-fitted-level-2);\n",
              "}\n",
              "\n",
              "/* Estimator label */\n",
              "\n",
              "#sk-container-id-2 div.sk-label label {\n",
              "  font-family: monospace;\n",
              "  font-weight: bold;\n",
              "  display: inline-block;\n",
              "  line-height: 1.2em;\n",
              "}\n",
              "\n",
              "#sk-container-id-2 div.sk-label-container {\n",
              "  text-align: center;\n",
              "}\n",
              "\n",
              "/* Estimator-specific */\n",
              "#sk-container-id-2 div.sk-estimator {\n",
              "  font-family: monospace;\n",
              "  border: 1px dotted var(--sklearn-color-border-box);\n",
              "  border-radius: 0.25em;\n",
              "  box-sizing: border-box;\n",
              "  margin-bottom: 0.5em;\n",
              "  /* unfitted */\n",
              "  background-color: var(--sklearn-color-unfitted-level-0);\n",
              "}\n",
              "\n",
              "#sk-container-id-2 div.sk-estimator.fitted {\n",
              "  /* fitted */\n",
              "  background-color: var(--sklearn-color-fitted-level-0);\n",
              "}\n",
              "\n",
              "/* on hover */\n",
              "#sk-container-id-2 div.sk-estimator:hover {\n",
              "  /* unfitted */\n",
              "  background-color: var(--sklearn-color-unfitted-level-2);\n",
              "}\n",
              "\n",
              "#sk-container-id-2 div.sk-estimator.fitted:hover {\n",
              "  /* fitted */\n",
              "  background-color: var(--sklearn-color-fitted-level-2);\n",
              "}\n",
              "\n",
              "/* Specification for estimator info (e.g. \"i\" and \"?\") */\n",
              "\n",
              "/* Common style for \"i\" and \"?\" */\n",
              "\n",
              ".sk-estimator-doc-link,\n",
              "a:link.sk-estimator-doc-link,\n",
              "a:visited.sk-estimator-doc-link {\n",
              "  float: right;\n",
              "  font-size: smaller;\n",
              "  line-height: 1em;\n",
              "  font-family: monospace;\n",
              "  background-color: var(--sklearn-color-background);\n",
              "  border-radius: 1em;\n",
              "  height: 1em;\n",
              "  width: 1em;\n",
              "  text-decoration: none !important;\n",
              "  margin-left: 0.5em;\n",
              "  text-align: center;\n",
              "  /* unfitted */\n",
              "  border: var(--sklearn-color-unfitted-level-1) 1pt solid;\n",
              "  color: var(--sklearn-color-unfitted-level-1);\n",
              "}\n",
              "\n",
              ".sk-estimator-doc-link.fitted,\n",
              "a:link.sk-estimator-doc-link.fitted,\n",
              "a:visited.sk-estimator-doc-link.fitted {\n",
              "  /* fitted */\n",
              "  border: var(--sklearn-color-fitted-level-1) 1pt solid;\n",
              "  color: var(--sklearn-color-fitted-level-1);\n",
              "}\n",
              "\n",
              "/* On hover */\n",
              "div.sk-estimator:hover .sk-estimator-doc-link:hover,\n",
              ".sk-estimator-doc-link:hover,\n",
              "div.sk-label-container:hover .sk-estimator-doc-link:hover,\n",
              ".sk-estimator-doc-link:hover {\n",
              "  /* unfitted */\n",
              "  background-color: var(--sklearn-color-unfitted-level-3);\n",
              "  color: var(--sklearn-color-background);\n",
              "  text-decoration: none;\n",
              "}\n",
              "\n",
              "div.sk-estimator.fitted:hover .sk-estimator-doc-link.fitted:hover,\n",
              ".sk-estimator-doc-link.fitted:hover,\n",
              "div.sk-label-container:hover .sk-estimator-doc-link.fitted:hover,\n",
              ".sk-estimator-doc-link.fitted:hover {\n",
              "  /* fitted */\n",
              "  background-color: var(--sklearn-color-fitted-level-3);\n",
              "  color: var(--sklearn-color-background);\n",
              "  text-decoration: none;\n",
              "}\n",
              "\n",
              "/* Span, style for the box shown on hovering the info icon */\n",
              ".sk-estimator-doc-link span {\n",
              "  display: none;\n",
              "  z-index: 9999;\n",
              "  position: relative;\n",
              "  font-weight: normal;\n",
              "  right: .2ex;\n",
              "  padding: .5ex;\n",
              "  margin: .5ex;\n",
              "  width: min-content;\n",
              "  min-width: 20ex;\n",
              "  max-width: 50ex;\n",
              "  color: var(--sklearn-color-text);\n",
              "  box-shadow: 2pt 2pt 4pt #999;\n",
              "  /* unfitted */\n",
              "  background: var(--sklearn-color-unfitted-level-0);\n",
              "  border: .5pt solid var(--sklearn-color-unfitted-level-3);\n",
              "}\n",
              "\n",
              ".sk-estimator-doc-link.fitted span {\n",
              "  /* fitted */\n",
              "  background: var(--sklearn-color-fitted-level-0);\n",
              "  border: var(--sklearn-color-fitted-level-3);\n",
              "}\n",
              "\n",
              ".sk-estimator-doc-link:hover span {\n",
              "  display: block;\n",
              "}\n",
              "\n",
              "/* \"?\"-specific style due to the `<a>` HTML tag */\n",
              "\n",
              "#sk-container-id-2 a.estimator_doc_link {\n",
              "  float: right;\n",
              "  font-size: 1rem;\n",
              "  line-height: 1em;\n",
              "  font-family: monospace;\n",
              "  background-color: var(--sklearn-color-background);\n",
              "  border-radius: 1rem;\n",
              "  height: 1rem;\n",
              "  width: 1rem;\n",
              "  text-decoration: none;\n",
              "  /* unfitted */\n",
              "  color: var(--sklearn-color-unfitted-level-1);\n",
              "  border: var(--sklearn-color-unfitted-level-1) 1pt solid;\n",
              "}\n",
              "\n",
              "#sk-container-id-2 a.estimator_doc_link.fitted {\n",
              "  /* fitted */\n",
              "  border: var(--sklearn-color-fitted-level-1) 1pt solid;\n",
              "  color: var(--sklearn-color-fitted-level-1);\n",
              "}\n",
              "\n",
              "/* On hover */\n",
              "#sk-container-id-2 a.estimator_doc_link:hover {\n",
              "  /* unfitted */\n",
              "  background-color: var(--sklearn-color-unfitted-level-3);\n",
              "  color: var(--sklearn-color-background);\n",
              "  text-decoration: none;\n",
              "}\n",
              "\n",
              "#sk-container-id-2 a.estimator_doc_link.fitted:hover {\n",
              "  /* fitted */\n",
              "  background-color: var(--sklearn-color-fitted-level-3);\n",
              "}\n",
              "</style><div id=\"sk-container-id-2\" class=\"sk-top-container\"><div class=\"sk-text-repr-fallback\"><pre>RandomForestClassifier(random_state=42)</pre><b>In a Jupyter environment, please rerun this cell to show the HTML representation or trust the notebook. <br />On GitHub, the HTML representation is unable to render, please try loading this page with nbviewer.org.</b></div><div class=\"sk-container\" hidden><div class=\"sk-item\"><div class=\"sk-estimator fitted sk-toggleable\"><input class=\"sk-toggleable__control sk-hidden--visually\" id=\"sk-estimator-id-2\" type=\"checkbox\" checked><label for=\"sk-estimator-id-2\" class=\"sk-toggleable__label fitted sk-toggleable__label-arrow\"><div><div>RandomForestClassifier</div></div><div><a class=\"sk-estimator-doc-link fitted\" rel=\"noreferrer\" target=\"_blank\" href=\"https://scikit-learn.org/1.6/modules/generated/sklearn.ensemble.RandomForestClassifier.html\">?<span>Documentation for RandomForestClassifier</span></a><span class=\"sk-estimator-doc-link fitted\">i<span>Fitted</span></span></div></label><div class=\"sk-toggleable__content fitted\"><pre>RandomForestClassifier(random_state=42)</pre></div> </div></div></div></div>"
            ]
          },
          "metadata": {},
          "execution_count": 65
        }
      ]
    },
    {
      "cell_type": "code",
      "source": [
        "param_grids = {'n_estimators': [100, 200, 300], 'max_depth': [10,20,30, None],'min_samples_split': [2, 5, 10]}\n",
        "\n",
        "print(f\"Tuning and Evaluating for {rf}...\")\n",
        "\n",
        "grid_search = GridSearchCV(estimator=rf, param_grid = param_grids, cv=5,)\n",
        "\n",
        "grid_search.fit(x_train, y_train)\n",
        "\n",
        "best_rf = grid_search.best_estimator_\n",
        "print(f\"Best Parameters for rf: {best_rf} \\n\")\n",
        "\n",
        "y_pred = best_rf.predict(x_test)\n",
        "\n",
        "accuracy = accuracy_score(y_test, y_pred)\n",
        "class_report = classification_report(y_test, y_pred)\n",
        "cm = confusion_matrix(y_test, y_pred)\n",
        "\n",
        "print(f\"Accuracy: {accuracy} \\n\")\n",
        "print(f\"Classification Report:\\n{class_report}\")\n",
        "\n",
        "plt.figure(figsize=(6, 4))\n",
        "sns.heatmap(cm, annot=True, fmt=\"d\", cmap=\"Purples\")\n",
        "plt.title(f\"Confusion Matrix: RandomForest\")\n",
        "plt.xlabel(\"Predicted Label\")\n",
        "plt.ylabel(\"True Label\")\n",
        "plt.show()"
      ],
      "metadata": {
        "id": "57Ih_H3PdsUk",
        "colab": {
          "base_uri": "https://localhost:8080/",
          "height": 670
        },
        "outputId": "cd12741d-6710-4825-f966-91d08de9fc30"
      },
      "execution_count": null,
      "outputs": [
        {
          "output_type": "stream",
          "name": "stdout",
          "text": [
            "Tuning and Evaluating for RandomForestClassifier(random_state=42)...\n",
            "Best Parameters for rf: RandomForestClassifier(n_estimators=300, random_state=42) \n",
            "\n",
            "Accuracy: 0.6835836354220611 \n",
            "\n",
            "Classification Report:\n",
            "              precision    recall  f1-score   support\n",
            "\n",
            "         0.0       0.68      0.99      0.81      1287\n",
            "         1.0       0.80      0.07      0.13       644\n",
            "\n",
            "    accuracy                           0.68      1931\n",
            "   macro avg       0.74      0.53      0.47      1931\n",
            "weighted avg       0.72      0.68      0.58      1931\n",
            "\n"
          ]
        },
        {
          "output_type": "display_data",
          "data": {
            "text/plain": [
              "<Figure size 600x400 with 2 Axes>"
            ],
            "image/png": "[encoded data removed]"
          },
          "metadata": {}
        }
      ]
    },
    {
      "cell_type": "markdown",
      "source": [
        "## **Feature Importance for Random Forest**"
      ],
      "metadata": {
        "id": "Rz7jSwOlmVe9"
      }
    },
    {
      "cell_type": "code",
      "source": [
        "feature_importance = rf.feature_importances_\n",
        "\n",
        "feature_df_har = pd.DataFrame({\n",
        "    'Feature': x_train.columns,\n",
        "    'Importance': feature_importance\n",
        "})\n",
        "\n",
        "features = feature_df_har.sort_values(by='Importance', ascending=False)\n",
        "print(features)"
      ],
      "metadata": {
        "colab": {
          "base_uri": "https://localhost:8080/"
        },
        "id": "W9iBRXWHdlEM",
        "outputId": "91f825d2-1678-41ed-9127-4d08a6328011"
      },
      "execution_count": null,
      "outputs": [
        {
          "output_type": "stream",
          "name": "stdout",
          "text": [
            "                            Feature  Importance\n",
            "15                              BMI    0.079763\n",
            "8           Exercise Hours Per Week    0.079145\n",
            "13          Sedentary Hours Per Day    0.078071\n",
            "14                           Income    0.075801\n",
            "16                    Triglycerides    0.075006\n",
            "1                       Cholesterol    0.073365\n",
            "23          Systolic blood pressure    0.067832\n",
            "0                               Age    0.067378\n",
            "2                        Heart rate    0.066542\n",
            "24         Diastolic blood pressure    0.063423\n",
            "12                     Stress Level    0.042223\n",
            "17  Physical Activity Days Per Week    0.039014\n",
            "18              Sleep Hours Per Day    0.033937\n",
            "9                              Diet    0.028139\n",
            "19                      Blood sugar    0.017011\n",
            "21                         Troponin    0.016291\n",
            "20                            CK-MB    0.016254\n",
            "7               Alcohol Consumption    0.011274\n",
            "11                   Medication Use    0.011263\n",
            "4                    Family History    0.011225\n",
            "10          Previous Heart Problems    0.011133\n",
            "3                          Diabetes    0.010372\n",
            "6                           Obesity    0.010246\n",
            "22                           Gender    0.009853\n",
            "5                           Smoking    0.005437\n"
          ]
        }
      ]
    },
    {
      "cell_type": "markdown",
      "source": [
        "source of code: https://scikit-learn.org/stable/modules/generated/sklearn.ensemble.RandomForestClassifier.html\n",
        "\n",
        "https://scikit-learn.org/stable/auto_examples/ensemble/plot_forest_importances.html\n",
        "\n",
        "**Inferences:**\n",
        "\n",
        "The list shows the features from high priority to low priority. BMI has the highest importance in predicting the target variable. Lifestyle factors such as excersice hours, sedentary hours and income are also major factors in contibuting in higher risk for heart attack.\n",
        "\n",
        "Thus, checking for the feature will allow the healthcare sector to analyse what all features interact with each other and increases the risk of heart attack."
      ],
      "metadata": {
        "id": "AA-PSsrRmkXF"
      }
    },
    {
      "cell_type": "markdown",
      "source": [
        "## **Model Selection Explanation:**\n",
        "\n",
        "I experimented with different machine learning algorithms such as:\n",
        "- Logistic Regression\n",
        "- Random Forest\n",
        "- XGBoost (Extreem Gradient Boosting)\n",
        "- Gradient Boosting\n",
        "\n",
        "For each of the above model I performed hyperparameter tuning using Grid-search for optimizing the model performance.\n",
        "Also analysed metrics such as ROC-AUC and Accuracy, Recall, Precision & F1-score. Among all the models evaluation techniques, **Random Forest was the best model in performance after Hyperparameter Tuning using GridSearch CV.**\n",
        "\n",
        "As the dataset is highly unbalanced, I tried balancing techniques such as **SMOTE** and **SMOTETomek** to reduce the impact of biasness of the dataset.\n",
        "Despite using these techniques the overall result remain the same as before.\n"
      ],
      "metadata": {
        "id": "T2epvhHr_-lO"
      }
    },
    {
      "cell_type": "markdown",
      "source": [
        "## **Data Imbalance:**\n",
        "\n",
        "The data given was highly imbalanced thus lead to low accuracy result that did not allow model to show it's real performance. In such senarious, **accuracy can be a missleading metric** to analyse the model performance as a model may predict the majority class perfectly but fails to perform good with minority class. Thus accuracy is not a reliable metric for this type of dataset.\n",
        "\n"
      ],
      "metadata": {
        "id": "_UbA3506lZyu"
      }
    },
    {
      "cell_type": "markdown",
      "source": [
        "## **Final Report:**\n",
        "\n",
        "Focused on **classification report** for my final analysis provided me a better model performance ideas. The following metrix were taken into account to provide analysis report:\n",
        "\n",
        "            **Class   Precision    Recall   F1-score**  \n",
        "                0.0       0.68      0.99      0.81      \n",
        "                1.0       0.80      0.07      0.13       \n",
        "\n",
        "Majority class i.e **\"class 0\"**  has **high precision and recall value**. Thus the class was identified perfectly.\n",
        "\n",
        "Minority class i.e **\"Class 1\"** has **very low recall value**, thus shows that model fails to identify true cases that is cases those have high chances of Heart Attack.\n",
        "\n",
        "**F1-score is very low for class 1**, means the model is right when it says that something is class 1 but eventually fails to identify the actual cases.\n",
        "\n",
        "Thus, it is highly suggested that the dataset should contain some more cases for positive values for heart attacks to balance the dataset and get a comparatively better final analysis."
      ],
      "metadata": {
        "id": "vynhmAK3XRpv"
      }
    },
    {
      "cell_type": "markdown",
      "source": [
        "## **Interpretation of Confussion Matrix:**\n",
        "\n",
        "- True Positives (TP): 1276 values were correctly predicted as class 0, when they were actually class 0.\n",
        "- True Negatives (TN): 44 values were corectly predicted as class 1, when they were actually class 1\n",
        "- False Positives (FP): 11 values were incorrectly predicted as class 0 when they were actaully class 1.\n",
        "- False Negatives (FN): 600 values were incorectly predicted as class 1 when they were actually class 0.\n",
        "\n",
        "This shows that model is very good at predicting class 0 (majority class) but is struggling to predict class 1 (minority class)."
      ],
      "metadata": {
        "id": "CVqijQzNdaTu"
      }
    },
    {
      "cell_type": "markdown",
      "source": [
        "**Strenghts of the solution:**\n",
        "- Random Forest outperformed from every other models after hyperparameter tuning.\n",
        "- It was best in dealing with the non-linear relationship between the features.\n",
        "\n",
        "**Limitations:**\n",
        "\n",
        "- The model still skips some of the high risk-patients (i.e false positive)\n",
        "- The current dataset does not represent all demograph groups equally\n",
        "- some features may have measurement errors or data entry errors.\n",
        "\n"
      ],
      "metadata": {
        "id": "ga_vcOZLAwHZ"
      }
    },
    {
      "cell_type": "markdown",
      "source": [
        "**Business Implications:**\n",
        "\n",
        "- Take help of medical experties to guide with the extreme cases of outliers.\n",
        "- Search for more factors which can cause heart attack.\n",
        "- Be specific with the features to clearly describe the fearures instead of just putting ordinal values"
      ],
      "metadata": {
        "id": "XrDH94lsBApV"
      }
    },
    {
      "cell_type": "markdown",
      "source": [
        "**Data-Driven Recommendations:**\n",
        "\n",
        "- Collect more data with high risk of heart disease making the dataset balanced which eventually help in a better model performance.\n",
        "\n",
        "- Create derived features, such as BMI Categories, cholesterol levels and stress level over time.\n",
        "\n",
        "- Maintain a pattern in the features instead assigning a randome value (for eg. the gender column had 4 unique categories)"
      ],
      "metadata": {
        "id": "GCugjmcABBqT"
      }
    },
    {
      "cell_type": "markdown",
      "source": [
        "**Model Explanability:**\n",
        "\n",
        "As a Data Scientist it is important for me take make accurate predictions and explain the \"why\" behind every question. It is important for my client to understand that how the model works and what are the strengths and weakness of the model. Biases in this model was the important criteria which I have mentioned so that daat correction can be done if there is any data entry errors or if there is any genuine critical case which need to be seen on urgent basis.\n",
        "\n",
        "Features those are highly responsible for heart attack (mentioned above in Feature Importances section) provides a good guide to the healthcare segment about the heart risk factors and thus form a cure for it.\n",
        "  \n"
      ],
      "metadata": {
        "id": "RnPNYdSCBIZc"
      }
    },
    {
      "cell_type": "markdown",
      "source": [
        "*Submitted By: Navya Agarwal*\n",
        "\n",
        "*Student Number: GH1035199*"
      ],
      "metadata": {
        "id": "CmcGdamgF720"
      }
    }
  ]
}